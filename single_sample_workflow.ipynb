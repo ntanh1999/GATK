{
 "cells": [
  {
   "cell_type": "markdown",
   "id": "utility-devil",
   "metadata": {},
   "source": [
    "# Description\n",
    "Single sample workflow\n",
    "### Steps\n",
    "- Data pre-processing\n",
    "- Variants calling by `HaplotypeCaller`\n",
    "- Variants filtering by `1D_CNN_model`\n",
    "- Variants annotation by `VEP`"
   ]
  },
  {
   "cell_type": "markdown",
   "id": "serious-parks",
   "metadata": {},
   "source": [
    "# Mở đầu"
   ]
  },
  {
   "cell_type": "code",
   "execution_count": 1,
   "id": "brutal-gothic",
   "metadata": {},
   "outputs": [],
   "source": [
    "import os"
   ]
  },
  {
   "cell_type": "markdown",
   "id": "steady-government",
   "metadata": {},
   "source": [
    "### Tạo các thư mục"
   ]
  },
  {
   "cell_type": "code",
   "execution_count": 2,
   "id": "tender-rental",
   "metadata": {},
   "outputs": [],
   "source": [
    "out_dir = \"/media/vinbdi/data/tienanh/gatk\"\n",
    "#os.mkdir(out_dir)\n",
    "out_aln = os.path.join(out_dir,'aln')\n",
    "#os.mkdir(out_aln)\n",
    "out_qual = os.path.join(out_dir,'qualification')\n",
    "#os.mkdir(out_qual)\n",
    "tmp = os.path.join(out_dir,'tmp')\n",
    "#os.mkdir(tmp)\n",
    "out_vcf = os.path.join(out_dir,'vcf')\n",
    "#os.mkdir(out_vcf)\n",
    "out_fil = os.path.join(out_dir,'filter')\n",
    "#os.mkdir(out_fil)"
   ]
  },
  {
   "cell_type": "markdown",
   "id": "labeled-plymouth",
   "metadata": {},
   "source": [
    "### Các input"
   ]
  },
  {
   "cell_type": "code",
   "execution_count": 3,
   "id": "synthetic-importance",
   "metadata": {},
   "outputs": [],
   "source": [
    "ref_fasta = '/home/vinbdi/Desktop/ref38/hg38.fasta'\n",
    "dbsnp = '/home/vinbdi/Desktop/ref38/resources-broad-hg38-v0-Homo_sapiens_assembly38.dbsnp138.vcf'\n",
    "G1_R1 = '/media/vinbdi/data/tienanh/NSAIDS_pilot/NSAIDS_0011_L001_ds.81df2cc1573849138d82f8230c815a67/NSAIDS-0011_S1_L001_R1_001.fastq.gz'\n",
    "G1_R2 = '/media/vinbdi/data/tienanh/NSAIDS_pilot/NSAIDS_0011_L001_ds.81df2cc1573849138d82f8230c815a67/NSAIDS-0011_S1_L001_R2_001.fastq.gz'\n",
    "G2_R1 = '/media/vinbdi/data/tienanh/NSAIDS_pilot/NSAIDS_0011_L002_ds.be566a5456834aef871b632a3f6b327b/NSAIDS-0011_S1_L002_R1_001.fastq.gz'\n",
    "G2_R2 = '/media/vinbdi/data/tienanh/NSAIDS_pilot/NSAIDS_0011_L002_ds.be566a5456834aef871b632a3f6b327b/NSAIDS-0011_S1_L002_R2_001.fastq.gz'\n",
    "G3_R1 = '/media/vinbdi/data/tienanh/NSAIDS_pilot/NSAIDS_0011_L003_ds.111556611a124592b9417420e504a5cf/NSAIDS-0011_S1_L003_R1_001.fastq.gz'\n",
    "G3_R2 = '/media/vinbdi/data/tienanh/NSAIDS_pilot/NSAIDS_0011_L003_ds.111556611a124592b9417420e504a5cf/NSAIDS-0011_S1_L003_R2_001.fastq.gz'\n",
    "G4_R1 = '/media/vinbdi/data/tienanh/NSAIDS_pilot/NSAIDS_0011_L004_ds.baf99a87df4d48008907ae34c2d0e2b3/NSAIDS-0011_S1_L004_R1_001.fastq.gz'\n",
    "G4_R2 = '/media/vinbdi/data/tienanh/NSAIDS_pilot/NSAIDS_0011_L004_ds.baf99a87df4d48008907ae34c2d0e2b3/NSAIDS-0011_S1_L004_R2_001.fastq.gz'"
   ]
  },
  {
   "cell_type": "markdown",
   "id": "cognitive-lesson",
   "metadata": {},
   "source": [
    "### Tạo dictionary chứa các variables"
   ]
  },
  {
   "cell_type": "code",
   "execution_count": 4,
   "id": "collectible-lending",
   "metadata": {
    "scrolled": true
   },
   "outputs": [],
   "source": [
    "sample = {}\n",
    "sample['name']= \"NSAIDS_0011\"\n",
    "sample['groups']=[]\n",
    "sample['groups'].append({'groupname':'L001','read1':G1_R1,'read2':G1_R2})\n",
    "sample['groups'].append({'groupname':'L002','read1':G2_R1,'read2':G2_R2})\n",
    "sample['groups'].append({'groupname':'L003','read1':G3_R1,'read2':G3_R2})\n",
    "sample['groups'].append({'groupname':'L004','read1':G4_R1,'read2':G4_R2})"
   ]
  },
  {
   "cell_type": "markdown",
   "id": "educated-moment",
   "metadata": {},
   "source": [
    "## A. Data pre-processing\n",
    "### 1. Mapping reads to the genome reference \n",
    "- Map reads to reference genome bằng `Bwa mem`\n",
    "- Dùng `samtools view` để nén *sam* thành *bam*<br>\n",
    "> *Function os.system() khi chuyển cmd vào shell tự biến đổi kĩ tự **\\t** thành tab nên option **-R** của `bwa mem` sẽ bị lỗi. Vì chưa tìm ra cách khắc phục vấn đề này trong python, nên đành tách việc thêm readgroup metadata ra một bước riêng*\n",
    "- `AddOrReplaceReadGroups` dùng để thêm thông tin readgroup vào file bam được tạo thành sau bwa\n",
    "- `SortSam` được dùng để sort file bam thành coordinate order"
   ]
  },
  {
   "cell_type": "code",
   "execution_count": 5,
   "id": "surrounded-instruction",
   "metadata": {},
   "outputs": [
    {
     "name": "stdout",
     "output_type": "stream",
     "text": [
      "RUNNING bwa mem -M                 -t 20                 /home/vinbdi/Desktop/ref38/hg38.fasta                 /media/vinbdi/data/tienanh/NSAIDS_pilot/NSAIDS_0011_L001_ds.81df2cc1573849138d82f8230c815a67/NSAIDS-0011_S1_L001_R1_001.fastq.gz                 /media/vinbdi/data/tienanh/NSAIDS_pilot/NSAIDS_0011_L001_ds.81df2cc1573849138d82f8230c815a67/NSAIDS-0011_S1_L001_R2_001.fastq.gz                 | samtools view -Shb -o /media/vinbdi/data/tienanh/gatk/aln/NSAIDS_0011_L001_mapped.bam\n",
      "RUNNING gatk AddOrReplaceReadGroups             -I /media/vinbdi/data/tienanh/gatk/aln/NSAIDS_0011_L001_mapped.bam             -O /media/vinbdi/data/tienanh/gatk/aln/NSAIDS_0011_L001_added.bam             --RGID L001             --RGSM NSAIDS_0011             --RGLB lib1             --RGPU unit1             --RGPL ILLUMINA\n",
      "RUNNING gatk SortSam             -I /media/vinbdi/data/tienanh/gatk/aln/NSAIDS_0011_L001_added.bam             -O /media/vinbdi/data/tienanh/gatk/aln/NSAIDS_0011_L001_sorted.bam             -SORT_ORDER coordinate             --TMP_DIR /media/vinbdi/data/tienanh/gatk/tmp\n",
      "RUNNING bwa mem -M                 -t 20                 /home/vinbdi/Desktop/ref38/hg38.fasta                 /media/vinbdi/data/tienanh/NSAIDS_pilot/NSAIDS_0011_L002_ds.be566a5456834aef871b632a3f6b327b/NSAIDS-0011_S1_L002_R1_001.fastq.gz                 /media/vinbdi/data/tienanh/NSAIDS_pilot/NSAIDS_0011_L002_ds.be566a5456834aef871b632a3f6b327b/NSAIDS-0011_S1_L002_R2_001.fastq.gz                 | samtools view -Shb -o /media/vinbdi/data/tienanh/gatk/aln/NSAIDS_0011_L002_mapped.bam\n",
      "RUNNING gatk AddOrReplaceReadGroups             -I /media/vinbdi/data/tienanh/gatk/aln/NSAIDS_0011_L002_mapped.bam             -O /media/vinbdi/data/tienanh/gatk/aln/NSAIDS_0011_L002_added.bam             --RGID L002             --RGSM NSAIDS_0011             --RGLB lib1             --RGPU unit1             --RGPL ILLUMINA\n",
      "RUNNING gatk SortSam             -I /media/vinbdi/data/tienanh/gatk/aln/NSAIDS_0011_L002_added.bam             -O /media/vinbdi/data/tienanh/gatk/aln/NSAIDS_0011_L002_sorted.bam             -SORT_ORDER coordinate             --TMP_DIR /media/vinbdi/data/tienanh/gatk/tmp\n",
      "RUNNING bwa mem -M                 -t 20                 /home/vinbdi/Desktop/ref38/hg38.fasta                 /media/vinbdi/data/tienanh/NSAIDS_pilot/NSAIDS_0011_L003_ds.111556611a124592b9417420e504a5cf/NSAIDS-0011_S1_L003_R1_001.fastq.gz                 /media/vinbdi/data/tienanh/NSAIDS_pilot/NSAIDS_0011_L003_ds.111556611a124592b9417420e504a5cf/NSAIDS-0011_S1_L003_R2_001.fastq.gz                 | samtools view -Shb -o /media/vinbdi/data/tienanh/gatk/aln/NSAIDS_0011_L003_mapped.bam\n",
      "RUNNING gatk AddOrReplaceReadGroups             -I /media/vinbdi/data/tienanh/gatk/aln/NSAIDS_0011_L003_mapped.bam             -O /media/vinbdi/data/tienanh/gatk/aln/NSAIDS_0011_L003_added.bam             --RGID L003             --RGSM NSAIDS_0011             --RGLB lib1             --RGPU unit1             --RGPL ILLUMINA\n",
      "RUNNING gatk SortSam             -I /media/vinbdi/data/tienanh/gatk/aln/NSAIDS_0011_L003_added.bam             -O /media/vinbdi/data/tienanh/gatk/aln/NSAIDS_0011_L003_sorted.bam             -SORT_ORDER coordinate             --TMP_DIR /media/vinbdi/data/tienanh/gatk/tmp\n",
      "RUNNING bwa mem -M                 -t 20                 /home/vinbdi/Desktop/ref38/hg38.fasta                 /media/vinbdi/data/tienanh/NSAIDS_pilot/NSAIDS_0011_L004_ds.baf99a87df4d48008907ae34c2d0e2b3/NSAIDS-0011_S1_L004_R1_001.fastq.gz                 /media/vinbdi/data/tienanh/NSAIDS_pilot/NSAIDS_0011_L004_ds.baf99a87df4d48008907ae34c2d0e2b3/NSAIDS-0011_S1_L004_R2_001.fastq.gz                 | samtools view -Shb -o /media/vinbdi/data/tienanh/gatk/aln/NSAIDS_0011_L004_mapped.bam\n",
      "RUNNING gatk AddOrReplaceReadGroups             -I /media/vinbdi/data/tienanh/gatk/aln/NSAIDS_0011_L004_mapped.bam             -O /media/vinbdi/data/tienanh/gatk/aln/NSAIDS_0011_L004_added.bam             --RGID L004             --RGSM NSAIDS_0011             --RGLB lib1             --RGPU unit1             --RGPL ILLUMINA\n",
      "RUNNING gatk SortSam             -I /media/vinbdi/data/tienanh/gatk/aln/NSAIDS_0011_L004_added.bam             -O /media/vinbdi/data/tienanh/gatk/aln/NSAIDS_0011_L004_sorted.bam             -SORT_ORDER coordinate             --TMP_DIR /media/vinbdi/data/tienanh/gatk/tmp\n"
     ]
    }
   ],
   "source": [
    "for group in sample['groups']:\n",
    "    #map reads to reference\n",
    "    group['mappedbam']= os.path.join(out_aln,sample['name']+'_'+group['groupname']+'_mapped.bam')\n",
    "    cmd = f\"\"\"bwa mem -M \\\n",
    "                -t 20 \\\n",
    "                {ref_fasta} \\\n",
    "                {group['read1']} \\\n",
    "                {group['read2']} \\\n",
    "                | samtools view -Shb -o {group['mappedbam']}\"\"\"\n",
    "    print(f'RUNNING {cmd}')\n",
    "    #os.system(cmd)\n",
    "    \n",
    "    #add readgroup metadata\n",
    "    group['addedbam']= os.path.join(out_aln,sample['name']+'_'+group['groupname']+'_added.bam')\n",
    "    cmd = f\"\"\"gatk AddOrReplaceReadGroups \\\n",
    "            -I {group['mappedbam']} \\\n",
    "            -O {group['addedbam']} \\\n",
    "            --RGID {group['groupname']} \\\n",
    "            --RGSM {sample['name']} \\\n",
    "            --RGLB lib1 \\\n",
    "            --RGPU unit1 \\\n",
    "            --RGPL ILLUMINA\"\"\"\n",
    "    print(f'RUNNING {cmd}')\n",
    "    #os.system(cmd)\n",
    "            \n",
    "    #sortbam\n",
    "    group['sortedbam']= os.path.join(out_aln,sample['name']+'_'+group['groupname']+'_sorted.bam')\n",
    "    cmd = f\"\"\"gatk SortSam \\\n",
    "            -I {group['addedbam']} \\\n",
    "            -O {group['sortedbam']} \\\n",
    "            -SORT_ORDER coordinate \\\n",
    "            --TMP_DIR {tmp}\"\"\"\n",
    "    print(f'RUNNING {cmd}')\n",
    "    #os.system(cmd)"
   ]
  },
  {
   "cell_type": "markdown",
   "id": "guided-proportion",
   "metadata": {},
   "source": [
    "### 2. Marking Duplicates\n",
    "- Input là 4 file bam đã được sort của 4 readgroup\n",
    "- Các duplicated reads sẽ được marked\n",
    "- Đồng thời 4 file bam của 4 readgroup sẽ được ghép lại thành 1 file bam duy nhất cho sample"
   ]
  },
  {
   "cell_type": "code",
   "execution_count": 6,
   "id": "polar-complexity",
   "metadata": {},
   "outputs": [
    {
     "name": "stdout",
     "output_type": "stream",
     "text": [
      "RUNNING gatk MarkDuplicates             -I /media/vinbdi/data/tienanh/gatk/aln/NSAIDS_0011_L001_sorted.bam             -I /media/vinbdi/data/tienanh/gatk/aln/NSAIDS_0011_L002_sorted.bam             -I /media/vinbdi/data/tienanh/gatk/aln/NSAIDS_0011_L003_sorted.bam             -I /media/vinbdi/data/tienanh/gatk/aln/NSAIDS_0011_L004_sorted.bam             -O /media/vinbdi/data/tienanh/gatk/qualification/NSAIDS_0011_marked.bam             -M /media/vinbdi/data/tienanh/gatk/qualification/NSAIDS_0011_metrics.txt             --TMP_DIR /media/vinbdi/data/tienanh/gatk/tmp\n"
     ]
    }
   ],
   "source": [
    "#mark duplicate\n",
    "sample['markedbam']= os.path.join(out_qual,sample['name']+'_marked.bam')\n",
    "sample['metrics']= os.path.join(out_qual,sample['name']+'_metrics.txt')\n",
    "\n",
    "cmd = f\"\"\"gatk MarkDuplicates \\\n",
    "            -I {sample['groups'][0]['sortedbam']} \\\n",
    "            -I {sample['groups'][1]['sortedbam']} \\\n",
    "            -I {sample['groups'][2]['sortedbam']} \\\n",
    "            -I {sample['groups'][3]['sortedbam']} \\\n",
    "            -O {sample['markedbam']} \\\n",
    "            -M {sample['metrics']} \\\n",
    "            --TMP_DIR {tmp}\"\"\"\n",
    "print(f'RUNNING {cmd}')\n",
    "#os.system(cmd)"
   ]
  },
  {
   "cell_type": "markdown",
   "id": "excellent-month",
   "metadata": {},
   "source": [
    "### 3. Recalibrating Base Quality Score\n",
    "`--known-sites` hiện tại đang chỉ sử dụng **dbSNP**"
   ]
  },
  {
   "cell_type": "code",
   "execution_count": 7,
   "id": "royal-stereo",
   "metadata": {},
   "outputs": [
    {
     "name": "stdout",
     "output_type": "stream",
     "text": [
      "RUNNING gatk BaseRecalibrator         -I /media/vinbdi/data/tienanh/gatk/qualification/NSAIDS_0011_marked.bam         -R /home/vinbdi/Desktop/ref38/hg38.fasta         --known-sites /home/vinbdi/Desktop/ref38/resources-broad-hg38-v0-Homo_sapiens_assembly38.dbsnp138.vcf         -O /media/vinbdi/data/tienanh/gatk/qualification/NSAIDS_0011_recal.table\n",
      "RUNNING gatk ApplyBQSR             -R /home/vinbdi/Desktop/ref38/hg38.fasta             -I /media/vinbdi/data/tienanh/gatk/qualification/NSAIDS_0011_marked.bam             --bqsr-recal-file /media/vinbdi/data/tienanh/gatk/qualification/NSAIDS_0011_recal.table             -O /media/vinbdi/data/tienanh/gatk/qualification/NSAIDS_0011_arr.bam\n"
     ]
    }
   ],
   "source": [
    "#base calibration\n",
    "sample['recaltable']= os.path.join(out_qual,sample['name']+'_recal.table')\n",
    "cmd = f\"\"\"gatk BaseRecalibrator \\\n",
    "        -I {sample['markedbam']} \\\n",
    "        -R {ref_fasta} \\\n",
    "        --known-sites {dbsnp} \\\n",
    "        -O {sample['recaltable']}\"\"\"\n",
    "print(f'RUNNING {cmd}')\n",
    "#os.system(cmd)\n",
    "\n",
    "sample['arrbam']= os.path.join(out_qual,sample['name']+'_arr.bam')\n",
    "cmd = f\"\"\"gatk ApplyBQSR \\\n",
    "            -R {ref_fasta} \\\n",
    "            -I {sample['markedbam']} \\\n",
    "            --bqsr-recal-file {sample['recaltable']} \\\n",
    "            -O {sample['arrbam']}\"\"\"\n",
    "print(f'RUNNING {cmd}')\n",
    "#os.system(cmd)"
   ]
  },
  {
   "cell_type": "markdown",
   "id": "shaped-variety",
   "metadata": {},
   "source": [
    "# B. Variants calling\n",
    "Dùng `HaplotypeCaller` chế độ single sample và -bamout"
   ]
  },
  {
   "cell_type": "code",
   "execution_count": 8,
   "id": "ultimate-emperor",
   "metadata": {},
   "outputs": [
    {
     "name": "stdout",
     "output_type": "stream",
     "text": [
      "RUNNING gatk HaplotypeCaller             -R /home/vinbdi/Desktop/ref38/hg38.fasta             -I /media/vinbdi/data/tienanh/gatk/qualification/NSAIDS_0011_arr.bam             -O /media/vinbdi/data/tienanh/gatk/vcf/NSAIDS_0011.vcf             -bamout /media/vinbdi/data/tienanh/gatk/vcf/NSAIDS_0011out.bam\n"
     ]
    }
   ],
   "source": [
    "#variant calling\n",
    "sample['vcf']= os.path.join(out_vcf,sample['name']+'.vcf')\n",
    "sample['bamout']= os.path.join(out_vcf,sample['name']+'out.bam')\n",
    "cmd = f\"\"\"gatk HaplotypeCaller \\\n",
    "            -R {ref_fasta} \\\n",
    "            -I {sample['arrbam']} \\\n",
    "            -O {sample['vcf']} \\\n",
    "            -bamout {sample['bamout']}\"\"\"\n",
    "print(f'RUNNING {cmd}')\n",
    "#os.system(cmd)"
   ]
  },
  {
   "cell_type": "markdown",
   "id": "forward-occupation",
   "metadata": {},
   "source": [
    "# C. Variants filtering"
   ]
  },
  {
   "cell_type": "markdown",
   "id": "extra-heater",
   "metadata": {},
   "source": [
    "`CNNScoreVariants` chạy bình thường bị lỗi liên quan đến python dependencies, em đã thử tạo 1 conda gatk environment \n",
    "```bash\n",
    "conda env create -f gatkcondaenv.yml\n",
    "```\n",
    "Tuy nhiên vẫn gặp lỗi nên em chuyển sang chạy bằng docker\n",
    "```bash\n",
    "docker run -t -i -v /home/ted/ubuntu/ADR:/gatk/my_data broadinstitute/gatk:4.1.3.0\n",
    "```\n",
    "```bash\n",
    "gatk CNNScoreVariants \\\n",
    "    -R /gatk/my_data/ref/Homo_sapiens_assembly38.fasta \\\n",
    "    -V /gatk/my_data/data/NSAIDS_0011.vcf \\\n",
    "    -O /gatk/my_data/data/NSAIDS_0011.1d_cnn_scored.vcf\n",
    "```\n",
    "\n",
    "`FilterVariantTranches` sử dụng resource là __1000G_omni2.5__ và __hapmap_3.3__\n",
    "```bash\n",
    "gatk FilterVariantTranches \\\n",
    "    -V /gatk/my_data/data/NSAIDS_0011.1d_cnn_scored.vcf \\\n",
    "    -O /gatk/my_data/data/NSAIDS_0011.1d_cnn_filtered.vcf \\\n",
    "    --resource /gatk/my_data/ref/1000G_omni2.5.hg38.vcf.gz \\\n",
    "    --resource /gatk/my_data/ref/hapmap_3.3.hg38.vcf.gz \\\n",
    "    --info-key CNN_1D \\\n",
    "    --snp-tranche 99.9 \\\n",
    "    --indel-tranche 95.0\n",
    "```"
   ]
  },
  {
   "cell_type": "markdown",
   "id": "coupled-wilson",
   "metadata": {},
   "source": [
    "# D. Variants annotation by VEP\n",
    "Vì file vcf lớn không chạy trên web được, nên em chạy bằng command line tool <br>\n",
    "Nhưng cài đặt khá mất thời gian vì download cache rất nặng và chậm\n",
    "\n",
    "```bash\n",
    "docker run -it -v /home/ted/ubuntu/ADR:/opt/vep/.vep ensemblorg/ensembl-vep\n",
    "perl INSTALL.pl -a cf -s homo_sapiens -y GRCh38\n",
    "./vep \\\n",
    "    -i /opt/vep/.vep/NSAIDS_0011.1d_cnn_filtered.vcf \\\n",
    "    -o /opt/vep/.vep/NSAIDS_0011.1d_cnn_filtered.txt \\\n",
    "    --offline\n",
    "```\n",
    "Đây là summary kết quả [VEP summary](./data/NSAIDS_0011.1d_cnn_filtered.txt_summary.html)"
   ]
  }
 ],
 "metadata": {
  "kernelspec": {
   "display_name": "Python 3",
   "language": "python",
   "name": "python3"
  },
  "language_info": {
   "codemirror_mode": {
    "name": "ipython",
    "version": 3
   },
   "file_extension": ".py",
   "mimetype": "text/x-python",
   "name": "python",
   "nbconvert_exporter": "python",
   "pygments_lexer": "ipython3",
   "version": "3.7.7"
  }
 },
 "nbformat": 4,
 "nbformat_minor": 5
}
