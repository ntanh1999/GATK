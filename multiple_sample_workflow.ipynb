{
 "cells": [
  {
   "cell_type": "markdown",
   "id": "limiting-employment",
   "metadata": {},
   "source": [
    "# Description\n",
    "Multiple sample workflow\n",
    "## Steps\n",
    "- Data pre-processing\n",
    "    - Mapping reads\n",
    "    - Marking duplicates\n",
    "    - Recalibrating Base Quality Score\n",
    "- Joint calling\n",
    "    - Calling variants per sample\n",
    "    - Consolidating GVCFs\n",
    "    - Joint genotyping\n",
    "- Filtering the Joint callset\n",
    "- Refining Genotype"
   ]
  },
  {
   "cell_type": "markdown",
   "id": "liable-trash",
   "metadata": {},
   "source": [
    "### Import module"
   ]
  },
  {
   "cell_type": "code",
   "execution_count": 12,
   "id": "approved-butterfly",
   "metadata": {},
   "outputs": [],
   "source": [
    "import os\n",
    "import pandas as pd"
   ]
  },
  {
   "cell_type": "markdown",
   "id": "outdoor-cleaners",
   "metadata": {},
   "source": [
    "### Create directory"
   ]
  },
  {
   "cell_type": "code",
   "execution_count": 13,
   "id": "following-stations",
   "metadata": {},
   "outputs": [],
   "source": [
    "out_dir = \"out_dir\"\n",
    "#os.mkdir(out_dir)\n",
    "out_aln = os.path.join(out_dir,'aln')\n",
    "#os.mkdir(out_aln)\n",
    "out_qual = os.path.join(out_dir,'qualification')\n",
    "#os.mkdir(out_qual)\n",
    "tmp = os.path.join(out_dir,'tmp')\n",
    "#os.mkdir(tmp)\n",
    "out_vcf = os.path.join(out_dir,'gvcf')\n",
    "#os.mkdir(out_vcf)\n",
    "out_joint = os.path.join(out_dir,'joint')\n",
    "#os.mkdir(out_joint)\n",
    "out_gdb = os.path.join(out_joint,'genomicsdb')\n",
    "#os.mkdir(out_gdb)\n",
    "out_fil = os.path.join(out_dir,'filter')\n",
    "#os.mkdir(out_fil)"
   ]
  },
  {
   "cell_type": "markdown",
   "id": "posted-helen",
   "metadata": {},
   "source": [
    "### Input"
   ]
  },
  {
   "cell_type": "code",
   "execution_count": 14,
   "id": "following-arizona",
   "metadata": {},
   "outputs": [
    {
     "output_type": "stream",
     "name": "stdout",
     "text": [
      "      name         group      read1      read2\n0  sample1  readgroup1.1  path1.1.1  path1.1.2\n1  sample1  readgroup1.2  path1.2.1  path1.2.2\n2  sample1  readgroup1.3  path1.3.1  path1.3.2\n3  sample1  readgroup1.4  path1.4.1  path1.4.2\n4  sample2  readgroup2.1  path2.1.1  path2.1.2\n5  sample2  readgroup2.2  path2.2.1  path2.2.2\n6  sample2  readgroup2.3  path2.3.1  path2.3.2\n7  sample2  readgroup2.4  path2.4.1  path2.4.2\n"
     ]
    }
   ],
   "source": [
    "ref_fasta = 'path_ref_fasta'\n",
    "dbsnp = 'path_dbsnp'\n",
    "hapmap = 'hapmap_sites.vcf.gz'\n",
    "omni = '1000G_omni2.5.sites.vcf.gz'\n",
    "phase1_snp = '1000G_phase1.snps.high_conf.vcf.gz'\n",
    "\n",
    "known_indel = 'Homo_sapiens_assembly38.known_indels.vcf.gz'\n",
    "mill_indel = 'Mills_and_1000G_gold_standard.indels.hg38.vcf.gz'\n",
    "\n",
    "input = pd.read_csv(\"input.tsv\",sep='\\t', dtype='str')\n",
    "input.fillna('', inplace=True)\n",
    "print (input)"
   ]
  },
  {
   "cell_type": "markdown",
   "id": "applicable-client",
   "metadata": {},
   "source": [
    "### Create dictionary"
   ]
  },
  {
   "cell_type": "code",
   "execution_count": 15,
   "id": "therapeutic-tsunami",
   "metadata": {},
   "outputs": [
    {
     "output_type": "stream",
     "name": "stdout",
     "text": [
      "{'samples': {'sample1': {'readgroup1.1': {'read1': 'path1.1.1', 'read2': 'path1.1.2'}, 'readgroup1.2': {'read1': 'path1.2.1', 'read2': 'path1.2.2'}, 'readgroup1.3': {'read1': 'path1.3.1', 'read2': 'path1.3.2'}, 'readgroup1.4': {'read1': 'path1.4.1', 'read2': 'path1.4.2'}}, 'sample2': {'readgroup2.1': {'read1': 'path2.1.1', 'read2': 'path2.1.2'}, 'readgroup2.2': {'read1': 'path2.2.1', 'read2': 'path2.2.2'}, 'readgroup2.3': {'read1': 'path2.3.1', 'read2': 'path2.3.2'}, 'readgroup2.4': {'read1': 'path2.4.1', 'read2': 'path2.4.2'}}}}\n"
     ]
    }
   ],
   "source": [
    "collection={}\n",
    "collection['samples'] = {}\n",
    "for i,row in input.iterrows():\n",
    "    if row['name'] not in collection['samples'].keys():\n",
    "        collection['samples'][row['name']]={}\n",
    "    collection['samples'][row['name']][row['group']]={} \n",
    "    collection['samples'][row['name']][row['group']]['read1']=row['read1']\n",
    "    collection['samples'][row['name']][row['group']]['read2']=row['read2']\n",
    "print(collection)"
   ]
  },
  {
   "cell_type": "markdown",
   "id": "sunset-mouse",
   "metadata": {},
   "source": [
    "## Each sample \n",
    "- bwa mem\n",
    "- sortbam\n",
    "- MarkDuplicates\n",
    "- BaseRecalibrator\n",
    "- ApplyBQSR\n",
    "- HaplotypeCaller"
   ]
  },
  {
   "cell_type": "code",
   "execution_count": 16,
   "id": "welsh-freeze",
   "metadata": {
    "scrolled": false
   },
   "outputs": [
    {
     "output_type": "stream",
     "name": "stdout",
     "text": [
      "bwa mem -M \\\n                    -t 20 \\\n                    -R @RG\\tID:readgroup1.1\\tSM:sample1\\tLB:lib1\\tPL:ILLUMINA \\\n                    path_ref_fasta \\\n                    path1.1.1 \\\n                    path1.1.2 \\\n                    | samtools view -Shb -o out_dir/aln/sample1_readgroup1.1_mapped.bam\ngatk SortSam \\\n                -I out_dir/aln/sample1_readgroup1.1_mapped.bam \\\n                -O out_dir/aln/sample1_readgroup1.1_sorted.bam \\\n                -SORT_ORDER coordinate \\\n                --TMP_DIR out_dir/tmp\nbwa mem -M \\\n                    -t 20 \\\n                    -R @RG\\tID:readgroup1.2\\tSM:sample1\\tLB:lib1\\tPL:ILLUMINA \\\n                    path_ref_fasta \\\n                    path1.2.1 \\\n                    path1.2.2 \\\n                    | samtools view -Shb -o out_dir/aln/sample1_readgroup1.2_mapped.bam\ngatk SortSam \\\n                -I out_dir/aln/sample1_readgroup1.2_mapped.bam \\\n                -O out_dir/aln/sample1_readgroup1.2_sorted.bam \\\n                -SORT_ORDER coordinate \\\n                --TMP_DIR out_dir/tmp\nbwa mem -M \\\n                    -t 20 \\\n                    -R @RG\\tID:readgroup1.3\\tSM:sample1\\tLB:lib1\\tPL:ILLUMINA \\\n                    path_ref_fasta \\\n                    path1.3.1 \\\n                    path1.3.2 \\\n                    | samtools view -Shb -o out_dir/aln/sample1_readgroup1.3_mapped.bam\ngatk SortSam \\\n                -I out_dir/aln/sample1_readgroup1.3_mapped.bam \\\n                -O out_dir/aln/sample1_readgroup1.3_sorted.bam \\\n                -SORT_ORDER coordinate \\\n                --TMP_DIR out_dir/tmp\nbwa mem -M \\\n                    -t 20 \\\n                    -R @RG\\tID:readgroup1.4\\tSM:sample1\\tLB:lib1\\tPL:ILLUMINA \\\n                    path_ref_fasta \\\n                    path1.4.1 \\\n                    path1.4.2 \\\n                    | samtools view -Shb -o out_dir/aln/sample1_readgroup1.4_mapped.bam\ngatk SortSam \\\n                -I out_dir/aln/sample1_readgroup1.4_mapped.bam \\\n                -O out_dir/aln/sample1_readgroup1.4_sorted.bam \\\n                -SORT_ORDER coordinate \\\n                --TMP_DIR out_dir/tmp\ngatk MarkDuplicates \\\n                -O out_dir/qualification/sample1_marked.bam \\\n                -M out_dir/qualification/sample1_metrics.txt \\\n                --TMP_DIR out_dir/tmp \\\n                -I out_dir/aln/sample1_readgroup1.1_sorted.bam -I out_dir/aln/sample1_readgroup1.2_sorted.bam -I out_dir/aln/sample1_readgroup1.3_sorted.bam -I out_dir/aln/sample1_readgroup1.4_sorted.bam \ngatk BaseRecalibrator \\\n            -I out_dir/qualification/sample1_marked.bam \\\n            -R path_ref_fasta \\\n            --known-sites path_dbsnp \\\n            -O out_dir/qualification/sample1_recal.table\ngatk ApplyBQSR \\\n                -R path_ref_fasta \\\n                -I out_dir/qualification/sample1_marked.bam \\\n                --bqsr-recal-file out_dir/qualification/sample1_recal.table \\\n                -O out_dir/qualification/sample1_arr.bam\ngatk HaplotypeCaller \\\n                -R path_ref_fasta \\\n                -I out_dir/qualification/sample1_arr.bam \\\n                -O out_dir/gvcf/sample1_g.vcf.gz \\\n                -ERC GVCF\nbwa mem -M \\\n                    -t 20 \\\n                    -R @RG\\tID:readgroup2.1\\tSM:sample2\\tLB:lib1\\tPL:ILLUMINA \\\n                    path_ref_fasta \\\n                    path2.1.1 \\\n                    path2.1.2 \\\n                    | samtools view -Shb -o out_dir/aln/sample2_readgroup2.1_mapped.bam\ngatk SortSam \\\n                -I out_dir/aln/sample2_readgroup2.1_mapped.bam \\\n                -O out_dir/aln/sample2_readgroup2.1_sorted.bam \\\n                -SORT_ORDER coordinate \\\n                --TMP_DIR out_dir/tmp\nbwa mem -M \\\n                    -t 20 \\\n                    -R @RG\\tID:readgroup2.2\\tSM:sample2\\tLB:lib1\\tPL:ILLUMINA \\\n                    path_ref_fasta \\\n                    path2.2.1 \\\n                    path2.2.2 \\\n                    | samtools view -Shb -o out_dir/aln/sample2_readgroup2.2_mapped.bam\ngatk SortSam \\\n                -I out_dir/aln/sample2_readgroup2.2_mapped.bam \\\n                -O out_dir/aln/sample2_readgroup2.2_sorted.bam \\\n                -SORT_ORDER coordinate \\\n                --TMP_DIR out_dir/tmp\nbwa mem -M \\\n                    -t 20 \\\n                    -R @RG\\tID:readgroup2.3\\tSM:sample2\\tLB:lib1\\tPL:ILLUMINA \\\n                    path_ref_fasta \\\n                    path2.3.1 \\\n                    path2.3.2 \\\n                    | samtools view -Shb -o out_dir/aln/sample2_readgroup2.3_mapped.bam\ngatk SortSam \\\n                -I out_dir/aln/sample2_readgroup2.3_mapped.bam \\\n                -O out_dir/aln/sample2_readgroup2.3_sorted.bam \\\n                -SORT_ORDER coordinate \\\n                --TMP_DIR out_dir/tmp\nbwa mem -M \\\n                    -t 20 \\\n                    -R @RG\\tID:readgroup2.4\\tSM:sample2\\tLB:lib1\\tPL:ILLUMINA \\\n                    path_ref_fasta \\\n                    path2.4.1 \\\n                    path2.4.2 \\\n                    | samtools view -Shb -o out_dir/aln/sample2_readgroup2.4_mapped.bam\ngatk SortSam \\\n                -I out_dir/aln/sample2_readgroup2.4_mapped.bam \\\n                -O out_dir/aln/sample2_readgroup2.4_sorted.bam \\\n                -SORT_ORDER coordinate \\\n                --TMP_DIR out_dir/tmp\ngatk MarkDuplicates \\\n                -O out_dir/qualification/sample2_marked.bam \\\n                -M out_dir/qualification/sample2_metrics.txt \\\n                --TMP_DIR out_dir/tmp \\\n                -I out_dir/aln/sample2_readgroup2.1_sorted.bam -I out_dir/aln/sample2_readgroup2.2_sorted.bam -I out_dir/aln/sample2_readgroup2.3_sorted.bam -I out_dir/aln/sample2_readgroup2.4_sorted.bam \ngatk BaseRecalibrator \\\n            -I out_dir/qualification/sample2_marked.bam \\\n            -R path_ref_fasta \\\n            --known-sites path_dbsnp \\\n            -O out_dir/qualification/sample2_recal.table\ngatk ApplyBQSR \\\n                -R path_ref_fasta \\\n                -I out_dir/qualification/sample2_marked.bam \\\n                --bqsr-recal-file out_dir/qualification/sample2_recal.table \\\n                -O out_dir/qualification/sample2_arr.bam\ngatk HaplotypeCaller \\\n                -R path_ref_fasta \\\n                -I out_dir/qualification/sample2_arr.bam \\\n                -O out_dir/gvcf/sample2_g.vcf.gz \\\n                -ERC GVCF\n"
     ]
    }
   ],
   "source": [
    "list_sample = []\n",
    "for sample_name in collection['samples']:\n",
    "    list_sample.append(sample_name)\n",
    "    sample=collection['samples'][sample_name]\n",
    "    list_group = []\n",
    "    for group_name in sample:\n",
    "        group = sample[group_name]\n",
    "        list_group.append(group_name)\n",
    "\n",
    "        #map reads to reference\n",
    "        group['mappedbam']= os.path.join(out_aln,sample_name+'_'+group_name+'_mapped.bam')\n",
    "        cmd = rf\"\"\"bwa mem -M \\\n",
    "                    -t 20 \\\n",
    "                    -R @RG\\tID:{group_name}\\tSM:{sample_name}\\tLB:lib1\\tPL:ILLUMINA \\\n",
    "                    {ref_fasta} \\\n",
    "                    {group['read1']} \\\n",
    "                    {group['read2']} \\\n",
    "                    | samtools view -Shb -o {group['mappedbam']}\"\"\"\n",
    "        print(cmd)\n",
    "        #os.system(cmd)\n",
    "        \n",
    "        #sortbam\n",
    "        group['sortedbam']= os.path.join(out_aln,sample_name+'_'+group_name+'_sorted.bam')\n",
    "        cmd = rf\"\"\"gatk SortSam \\\n",
    "                -I {group['mappedbam']} \\\n",
    "                -O {group['sortedbam']} \\\n",
    "                -SORT_ORDER coordinate \\\n",
    "                --TMP_DIR {tmp}\"\"\"\n",
    "        print(cmd)\n",
    "        #os.system(cmd)\n",
    "    \n",
    "    #mark duplicate\n",
    "    sample['markedbam']= os.path.join(out_qual,sample_name+'_marked.bam')\n",
    "    sample['metrics']= os.path.join(out_qual,sample_name+'_metrics.txt')\n",
    "\n",
    "    cmd = rf\"\"\"gatk MarkDuplicates \\\n",
    "                -O {sample['markedbam']} \\\n",
    "                -M {sample['metrics']} \\\n",
    "                --TMP_DIR {tmp} \\\n",
    "                \"\"\"\n",
    "    for gn in list_group:\n",
    "        cmd += rf\"-I {sample[gn]['sortedbam']} \"\n",
    "    print(cmd)\n",
    "    #os.system(cmd)\n",
    "    \n",
    "    #base recalibration\n",
    "    sample['recaltable']= os.path.join(out_qual,sample_name+'_recal.table')\n",
    "    cmd = rf\"\"\"gatk BaseRecalibrator \\\n",
    "            -I {sample['markedbam']} \\\n",
    "            -R {ref_fasta} \\\n",
    "            --known-sites {dbsnp} \\\n",
    "            -O {sample['recaltable']}\"\"\"\n",
    "    print(cmd)\n",
    "    #os.system(cmd)\n",
    "    sample['arrbam']= os.path.join(out_qual,sample_name+'_arr.bam')\n",
    "    cmd = rf\"\"\"gatk ApplyBQSR \\\n",
    "                -R {ref_fasta} \\\n",
    "                -I {sample['markedbam']} \\\n",
    "                --bqsr-recal-file {sample['recaltable']} \\\n",
    "                -O {sample['arrbam']}\"\"\"\n",
    "    print(cmd)\n",
    "    #os.system(cmd)\n",
    "\n",
    "    #variant calling\n",
    "    sample['gvcf']= os.path.join(out_vcf,sample_name+'_g.vcf.gz')\n",
    "    cmd = rf\"\"\"gatk HaplotypeCaller \\\n",
    "                -R {ref_fasta} \\\n",
    "                -I {sample['arrbam']} \\\n",
    "                -O {sample['gvcf']} \\\n",
    "                -ERC GVCF\"\"\"\n",
    "    print(cmd)\n",
    "    #os.system(cmd)"
   ]
  },
  {
   "cell_type": "markdown",
   "id": "rising-drilling",
   "metadata": {},
   "source": [
    "## Consolidating GVCFs"
   ]
  },
  {
   "cell_type": "code",
   "execution_count": 17,
   "id": "medium-collins",
   "metadata": {
    "scrolled": true
   },
   "outputs": [
    {
     "output_type": "stream",
     "name": "stdout",
     "text": [
      "gatk GenomicsDBImport \\\n        --genomicsdb-workspace-path out_dir/joint/genomicsdb \\\n        -V out_dir/gvcf/sample1_g.vcf.gz -V out_dir/gvcf/sample2_g.vcf.gz \n"
     ]
    }
   ],
   "source": [
    "collection['genomicsdb'] = out_gdb\n",
    "cmd = rf\"\"\"gatk GenomicsDBImport \\\n",
    "        --genomicsdb-workspace-path {collection['genomicsdb']} \\\n",
    "        \"\"\"\n",
    "for i in list_sample:\n",
    "    cmd += rf\"-V {collection['samples'][i]['gvcf']} \"\n",
    "print(cmd)\n",
    "#os.system(cmd)"
   ]
  },
  {
   "cell_type": "markdown",
   "id": "unlikely-recall",
   "metadata": {},
   "source": [
    "## Joint genotyping"
   ]
  },
  {
   "cell_type": "code",
   "execution_count": 18,
   "id": "hourly-agreement",
   "metadata": {},
   "outputs": [
    {
     "output_type": "stream",
     "name": "stdout",
     "text": [
      "gatk GenotypeGVCFs\n        -R path_ref_fasta         -V out_dir/joint/genomicsdb         -O out_dir/joint/joint.vcf.gz\n"
     ]
    }
   ],
   "source": [
    "collection['jointvcf'] = os.path.join(out_joint,'joint.vcf.gz')\n",
    "cmd =f\"\"\"gatk GenotypeGVCFs\n",
    "        -R {ref_fasta} \\\n",
    "        -V {collection['genomicsdb']} \\\n",
    "        -O {collection['jointvcf']}\"\"\"\n",
    "print(cmd)\n",
    "#os.system(cmd) "
   ]
  },
  {
   "source": [
    "## Filtering the Joint Callset \n",
    "> Chưa biết cách chọn resource và set arguments\n",
    "\n",
    "\n",
    "### 1. SNP"
   ],
   "cell_type": "markdown",
   "metadata": {}
  },
  {
   "cell_type": "code",
   "execution_count": 19,
   "metadata": {},
   "outputs": [
    {
     "output_type": "stream",
     "name": "stdout",
     "text": [
      "gatk VariantRecalibrator \\\n                -R path_ref_fasta \\\n                -V out_dir/joint/joint.vcf.gz \\\n                --resource:hapmap,known=false,training=true,truth=true,prior=15.0 hapmap_sites.vcf.gz \\\n                --resource:omni,known=false,training=true,truth=false,prior=12.0 1000G_omni2.5.sites.vcf.gz \\\n                --resource:1000G,known=false,training=true,truth=false,prior=10.0 1000G_phase1.snps.high_conf.vcf.gz \\\n                --resource:dbsnp,known=true,training=false,truth=false,prior=2.0 path_dbsnp \\\n                -an QD -an MQ -an MQRankSum -an ReadPosRankSum -an FS -an SOR \\\n                -mode SNP \\\n                -O out_dir/filter/snp.recal \\\n                --tranches-file out_dir/filter/snp.tranches\n"
     ]
    }
   ],
   "source": [
    "collection['snp_recal'] = os.path.join(out_fil,'snp.recal')\n",
    "collection['snp_tranches'] = os.path.join(out_fil,'snp.tranches')\n",
    "cmd = rf\"\"\"gatk VariantRecalibrator \\\n",
    "                -R {ref_fasta} \\\n",
    "                -V {collection['jointvcf']} \\\n",
    "                --resource:hapmap,known=false,training=true,truth=true,prior=15.0 {hapmap} \\\n",
    "                --resource:omni,known=false,training=true,truth=false,prior=12.0 {omni} \\\n",
    "                --resource:1000G,known=false,training=true,truth=false,prior=10.0 {phase1_snp} \\\n",
    "                --resource:dbsnp,known=true,training=false,truth=false,prior=2.0 {dbsnp} \\\n",
    "                -an QD -an MQ -an MQRankSum -an ReadPosRankSum -an FS -an SOR \\\n",
    "                -mode SNP \\\n",
    "                -O {collection['snp_recal']} \\\n",
    "                --tranches-file {collection['snp_tranches']}\"\"\"\n",
    "print(cmd)\n",
    "#os.system(cmd) "
   ]
  },
  {
   "cell_type": "code",
   "execution_count": 20,
   "metadata": {},
   "outputs": [
    {
     "output_type": "stream",
     "name": "stdout",
     "text": [
      "gatk ApplyVQSR \\\n                -R path_ref_fasta \\\n                -V out_dir/joint/joint.vcf.gz \\\n                -O out_dir/filter/snp_filtered.vcf.gz \\\n                --truth-sensitivity-filter-level 99.9 \\\n                --tranches-file out_dir/filter/snp.tranches \\\n                --recal-file out_dir/filter/snp.recal \\\n                -mode SNP\n"
     ]
    }
   ],
   "source": [
    "collection['snp_fil_vcf'] = os.path.join(out_fil,'snp_filtered.vcf.gz')\n",
    "cmd = rf\"\"\"gatk ApplyVQSR \\\n",
    "                -R {ref_fasta} \\\n",
    "                -V {collection['jointvcf']} \\\n",
    "                -O {collection['snp_fil_vcf']} \\\n",
    "                --truth-sensitivity-filter-level 99.9 \\\n",
    "                --tranches-file {collection['snp_tranches']} \\\n",
    "                --recal-file {collection['snp_recal']} \\\n",
    "                -mode SNP\"\"\"\n",
    "print(cmd)\n",
    "#os.system(cmd) "
   ]
  },
  {
   "source": [
    "### 2. Indel"
   ],
   "cell_type": "markdown",
   "metadata": {}
  },
  {
   "cell_type": "code",
   "execution_count": 21,
   "metadata": {},
   "outputs": [
    {
     "output_type": "stream",
     "name": "stdout",
     "text": [
      "gatk VariantRecalibrator \\\n                -R path_ref_fasta \\\n                -V out_dir/filter/snp_filtered.vcf.gz \\\n                --resource:hapmap,known=false,training=true,truth=true,prior=15.0 hapmap_sites.vcf.gz \\\n                --resource:omni,known=false,training=true,truth=false,prior=12.0 1000G_omni2.5.sites.vcf.gz \\\n                --resource:Mill_1000G,known=false,training=true,truth=false,prior=10.0 Mills_and_1000G_gold_standard.indels.hg38.vcf.gz \\\n                --resource:known_indel,known=true,training=false,truth=false,prior=2.0 Homo_sapiens_assembly38.known_indels.vcf.gz \\\n                -an QD -an MQ -an MQRankSum -an ReadPosRankSum -an FS -an SOR \\\n                -mode INDEL \\\n                -O out_dir/filter/indel.recal \\\n                --tranches-file out_dir/filter/indel.tranches\n"
     ]
    }
   ],
   "source": [
    "collection['indel_recal'] = os.path.join(out_fil,'indel.recal')\n",
    "collection['indel_tranches'] = os.path.join(out_fil,'indel.tranches')\n",
    "cmd = rf\"\"\"gatk VariantRecalibrator \\\n",
    "                -R {ref_fasta} \\\n",
    "                -V {collection['snp_fil_vcf']} \\\n",
    "                --resource:hapmap,known=false,training=true,truth=true,prior=15.0 {hapmap} \\\n",
    "                --resource:omni,known=false,training=true,truth=false,prior=12.0 {omni} \\\n",
    "                --resource:Mill_1000G,known=false,training=true,truth=false,prior=10.0 {mill_indel} \\\n",
    "                --resource:known_indel,known=true,training=false,truth=false,prior=2.0 {known_indel} \\\n",
    "                -an QD -an MQ -an MQRankSum -an ReadPosRankSum -an FS -an SOR \\\n",
    "                -mode INDEL \\\n",
    "                -O {collection['indel_recal']} \\\n",
    "                --tranches-file {collection['indel_tranches']}\"\"\"\n",
    "print(cmd)\n",
    "#os.system(cmd) "
   ]
  },
  {
   "cell_type": "code",
   "execution_count": 22,
   "metadata": {},
   "outputs": [
    {
     "output_type": "stream",
     "name": "stdout",
     "text": [
      "gatk ApplyVQSR \\\n                -R path_ref_fasta \\\n                -V out_dir/filter/snp_filtered.vcf.gz \\\n                -O out_dir/filter/indel_filtered.vcf.gz \\\n                --truth-sensitivity-filter-level 99.9 \\\n                --tranches-file out_dir/filter/indel.tranches \\\n                --recal-file out_dir/filter/indel.recal \\\n                -mode INDEL\n"
     ]
    }
   ],
   "source": [
    "collection['indel_fil_vcf'] = os.path.join(out_fil,'indel_filtered.vcf.gz')\n",
    "cmd = rf\"\"\"gatk ApplyVQSR \\\n",
    "                -R {ref_fasta} \\\n",
    "                -V {collection['snp_fil_vcf']} \\\n",
    "                -O {collection['indel_fil_vcf']} \\\n",
    "                --truth-sensitivity-filter-level 99.9 \\\n",
    "                --tranches-file {collection['indel_tranches']} \\\n",
    "                --recal-file {collection['indel_recal']} \\\n",
    "                -mode INDEL\"\"\"\n",
    "print(cmd)\n",
    "#os.system(cmd) "
   ]
  },
  {
   "source": [
    "## Genotype Refinement"
   ],
   "cell_type": "markdown",
   "metadata": {}
  },
  {
   "cell_type": "code",
   "execution_count": null,
   "metadata": {},
   "outputs": [],
   "source": []
  }
 ],
 "metadata": {
  "kernelspec": {
   "display_name": "Python 3",
   "language": "python",
   "name": "python3"
  },
  "language_info": {
   "codemirror_mode": {
    "name": "ipython",
    "version": 3
   },
   "file_extension": ".py",
   "mimetype": "text/x-python",
   "name": "python",
   "nbconvert_exporter": "python",
   "pygments_lexer": "ipython3",
   "version": "3.7.7-final"
  }
 },
 "nbformat": 4,
 "nbformat_minor": 5
}