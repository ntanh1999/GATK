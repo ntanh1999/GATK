{
 "cells": [
  {
   "cell_type": "markdown",
   "id": "limiting-employment",
   "metadata": {},
   "source": [
    "# Description\n",
    "Multiple sample workflow\n",
    "## Steps\n",
    "- Data pre-processing\n",
    "    - Mapping reads\n",
    "    - Marking duplicates\n",
    "    - Recalibrating Base Quality Score\n",
    "- Joint calling\n",
    "    - Calling variants per sample\n",
    "    - Consolidating GVCFs\n",
    "    - Joint genotyping\n",
    "- Filtering the Joint callset\n",
    "- Refining Genotype"
   ]
  },
  {
   "cell_type": "markdown",
   "id": "liable-trash",
   "metadata": {},
   "source": [
    "# Preparation"
   ]
  },
  {
   "cell_type": "code",
   "execution_count": 1,
   "id": "approved-butterfly",
   "metadata": {},
   "outputs": [],
   "source": [
    "import os\n",
    "import pandas as pd"
   ]
  },
  {
   "cell_type": "markdown",
   "id": "outdoor-cleaners",
   "metadata": {},
   "source": [
    "### Create directory"
   ]
  },
  {
   "cell_type": "code",
   "execution_count": 2,
   "id": "following-stations",
   "metadata": {},
   "outputs": [],
   "source": [
    "out_dir = \"out_dir\"\n",
    "#os.mkdir(out_dir)\n",
    "out_aln = os.path.join(out_dir,'aln')\n",
    "#os.mkdir(out_aln)\n",
    "out_qual = os.path.join(out_dir,'qualification')\n",
    "#os.mkdir(out_qual)\n",
    "tmp = os.path.join(out_dir,'tmp')\n",
    "#os.mkdir(tmp)\n",
    "out_vcf = os.path.join(out_dir,'vcf')\n",
    "#os.mkdir(out_vcf)"
   ]
  },
  {
   "cell_type": "markdown",
   "id": "posted-helen",
   "metadata": {},
   "source": [
    "### Input"
   ]
  },
  {
   "cell_type": "code",
   "execution_count": 3,
   "id": "following-arizona",
   "metadata": {},
   "outputs": [
    {
     "name": "stdout",
     "output_type": "stream",
     "text": [
      "      name         group      read1      read2\n",
      "0  sample1  readgroup1.1  path1.1.1  path1.1.2\n",
      "1  sample1  readgroup1.2  path1.2.1  path1.2.2\n",
      "2  sample1  readgroup1.3  path1.3.1  path1.3.2\n",
      "3  sample1  readgroup1.4  path1.4.1  path1.4.2\n",
      "4  sample2  readgroup2.1  path2.1.1  path2.1.2\n",
      "5  sample2  readgroup2.2  path2.2.1  path2.2.2\n",
      "6  sample2  readgroup2.3  path2.3.1  path2.3.2\n",
      "7  sample2  readgroup2.4  path2.4.1  path2.4.2\n"
     ]
    }
   ],
   "source": [
    "ref_fasta = 'path_ref_fasta'\n",
    "dbsnp = 'path_dbsnp'\n",
    "\n",
    "input = pd.read_csv(\"input.tsv\",sep='\\t', dtype='str')\n",
    "input.fillna('', inplace=True)\n",
    "print (input)"
   ]
  },
  {
   "cell_type": "markdown",
   "id": "applicable-client",
   "metadata": {},
   "source": [
    "### Create dictionary"
   ]
  },
  {
   "cell_type": "code",
   "execution_count": 4,
   "id": "therapeutic-tsunami",
   "metadata": {},
   "outputs": [
    {
     "name": "stdout",
     "output_type": "stream",
     "text": [
      "{'samples': {'sample1': {'readgroup1.1': {'read1': 'path1.1.1', 'read2': 'path1.1.2'}, 'readgroup1.2': {'read1': 'path1.2.1', 'read2': 'path1.2.2'}, 'readgroup1.3': {'read1': 'path1.3.1', 'read2': 'path1.3.2'}, 'readgroup1.4': {'read1': 'path1.4.1', 'read2': 'path1.4.2'}}, 'sample2': {'readgroup2.1': {'read1': 'path2.1.1', 'read2': 'path2.1.2'}, 'readgroup2.2': {'read1': 'path2.2.1', 'read2': 'path2.2.2'}, 'readgroup2.3': {'read1': 'path2.3.1', 'read2': 'path2.3.2'}, 'readgroup2.4': {'read1': 'path2.4.1', 'read2': 'path2.4.2'}}}}\n"
     ]
    }
   ],
   "source": [
    "collection={}\n",
    "collection['samples'] = {}\n",
    "for i,row in input.iterrows():\n",
    "    if row['name'] not in collection['samples'].keys():\n",
    "        collection['samples'][row['name']]={}\n",
    "    collection['samples'][row['name']][row['group']]={} \n",
    "    collection['samples'][row['name']][row['group']]['read1']=row['read1']\n",
    "    collection['samples'][row['name']][row['group']]['read2']=row['read2']\n",
    "print(collection)"
   ]
  },
  {
   "cell_type": "markdown",
   "id": "sunset-mouse",
   "metadata": {},
   "source": [
    "## Each sample \n",
    "- bwa mem\n",
    "- sortbam\n",
    "- MarkDuplicates\n",
    "- BaseRecalibrator\n",
    "- ApplyBQSR\n",
    "- HaplotypeCaller"
   ]
  },
  {
   "cell_type": "code",
   "execution_count": 5,
   "id": "welsh-freeze",
   "metadata": {
    "scrolled": false
   },
   "outputs": [
    {
     "name": "stdout",
     "output_type": "stream",
     "text": [
      "bwa mem -M \\\n",
      "                    -t 20 \\\n",
      "                    -R @RG\\tID:readgroup1.1\\tSM:sample1\\tLB:lib1\\tPL:ILLUMINA \\\n",
      "                    path_ref_fasta \\\n",
      "                    path1.1.1 \\\n",
      "                    path1.1.2 \\\n",
      "                    | samtools view -Shb -o out_dir/aln/sample1_readgroup1.1_mapped.bam\n",
      "gatk SortSam \\\n",
      "                -I out_dir/aln/sample1_readgroup1.1_mapped.bam \\\n",
      "                -O out_dir/aln/sample1_readgroup1.1_sorted.bam \\\n",
      "                -SORT_ORDER coordinate \\\n",
      "                --TMP_DIR out_dir/tmp\n",
      "bwa mem -M \\\n",
      "                    -t 20 \\\n",
      "                    -R @RG\\tID:readgroup1.2\\tSM:sample1\\tLB:lib1\\tPL:ILLUMINA \\\n",
      "                    path_ref_fasta \\\n",
      "                    path1.2.1 \\\n",
      "                    path1.2.2 \\\n",
      "                    | samtools view -Shb -o out_dir/aln/sample1_readgroup1.2_mapped.bam\n",
      "gatk SortSam \\\n",
      "                -I out_dir/aln/sample1_readgroup1.2_mapped.bam \\\n",
      "                -O out_dir/aln/sample1_readgroup1.2_sorted.bam \\\n",
      "                -SORT_ORDER coordinate \\\n",
      "                --TMP_DIR out_dir/tmp\n",
      "bwa mem -M \\\n",
      "                    -t 20 \\\n",
      "                    -R @RG\\tID:readgroup1.3\\tSM:sample1\\tLB:lib1\\tPL:ILLUMINA \\\n",
      "                    path_ref_fasta \\\n",
      "                    path1.3.1 \\\n",
      "                    path1.3.2 \\\n",
      "                    | samtools view -Shb -o out_dir/aln/sample1_readgroup1.3_mapped.bam\n",
      "gatk SortSam \\\n",
      "                -I out_dir/aln/sample1_readgroup1.3_mapped.bam \\\n",
      "                -O out_dir/aln/sample1_readgroup1.3_sorted.bam \\\n",
      "                -SORT_ORDER coordinate \\\n",
      "                --TMP_DIR out_dir/tmp\n",
      "bwa mem -M \\\n",
      "                    -t 20 \\\n",
      "                    -R @RG\\tID:readgroup1.4\\tSM:sample1\\tLB:lib1\\tPL:ILLUMINA \\\n",
      "                    path_ref_fasta \\\n",
      "                    path1.4.1 \\\n",
      "                    path1.4.2 \\\n",
      "                    | samtools view -Shb -o out_dir/aln/sample1_readgroup1.4_mapped.bam\n",
      "gatk SortSam \\\n",
      "                -I out_dir/aln/sample1_readgroup1.4_mapped.bam \\\n",
      "                -O out_dir/aln/sample1_readgroup1.4_sorted.bam \\\n",
      "                -SORT_ORDER coordinate \\\n",
      "                --TMP_DIR out_dir/tmp\n",
      "gatk MarkDuplicates \\\n",
      "                -O out_dir/qualification/sample1_marked.bam \\\n",
      "                -M out_dir/qualification/sample1_metrics.txt \\\n",
      "                --TMP_DIR out_dir/tmp  -I out_dir/aln/sample1_readgroup1.1_sorted.bam  -I out_dir/aln/sample1_readgroup1.2_sorted.bam  -I out_dir/aln/sample1_readgroup1.3_sorted.bam  -I out_dir/aln/sample1_readgroup1.4_sorted.bam\n",
      "gatk BaseRecalibrator \\\n",
      "            -I out_dir/qualification/sample1_marked.bam \\\n",
      "            -R path_ref_fasta \\\n",
      "            --known-sites path_dbsnp \\\n",
      "            -O out_dir/qualification/sample1_recal.table\n",
      "gatk ApplyBQSR \\\n",
      "                -R path_ref_fasta \\\n",
      "                -I out_dir/qualification/sample1_marked.bam \\\n",
      "                --bqsr-recal-file out_dir/qualification/sample1_recal.table \\\n",
      "                -O out_dir/qualification/sample1_arr.bam\n",
      "gatk HaplotypeCaller \\\n",
      "                -R path_ref_fasta \\\n",
      "                -I out_dir/qualification/sample1_arr.bam \\\n",
      "                -O out_dir/vcf/sample1_g.vcf.gz \\\n",
      "                -ERC GVCF\n",
      "bwa mem -M \\\n",
      "                    -t 20 \\\n",
      "                    -R @RG\\tID:readgroup2.1\\tSM:sample2\\tLB:lib1\\tPL:ILLUMINA \\\n",
      "                    path_ref_fasta \\\n",
      "                    path2.1.1 \\\n",
      "                    path2.1.2 \\\n",
      "                    | samtools view -Shb -o out_dir/aln/sample2_readgroup2.1_mapped.bam\n",
      "gatk SortSam \\\n",
      "                -I out_dir/aln/sample2_readgroup2.1_mapped.bam \\\n",
      "                -O out_dir/aln/sample2_readgroup2.1_sorted.bam \\\n",
      "                -SORT_ORDER coordinate \\\n",
      "                --TMP_DIR out_dir/tmp\n",
      "bwa mem -M \\\n",
      "                    -t 20 \\\n",
      "                    -R @RG\\tID:readgroup2.2\\tSM:sample2\\tLB:lib1\\tPL:ILLUMINA \\\n",
      "                    path_ref_fasta \\\n",
      "                    path2.2.1 \\\n",
      "                    path2.2.2 \\\n",
      "                    | samtools view -Shb -o out_dir/aln/sample2_readgroup2.2_mapped.bam\n",
      "gatk SortSam \\\n",
      "                -I out_dir/aln/sample2_readgroup2.2_mapped.bam \\\n",
      "                -O out_dir/aln/sample2_readgroup2.2_sorted.bam \\\n",
      "                -SORT_ORDER coordinate \\\n",
      "                --TMP_DIR out_dir/tmp\n",
      "bwa mem -M \\\n",
      "                    -t 20 \\\n",
      "                    -R @RG\\tID:readgroup2.3\\tSM:sample2\\tLB:lib1\\tPL:ILLUMINA \\\n",
      "                    path_ref_fasta \\\n",
      "                    path2.3.1 \\\n",
      "                    path2.3.2 \\\n",
      "                    | samtools view -Shb -o out_dir/aln/sample2_readgroup2.3_mapped.bam\n",
      "gatk SortSam \\\n",
      "                -I out_dir/aln/sample2_readgroup2.3_mapped.bam \\\n",
      "                -O out_dir/aln/sample2_readgroup2.3_sorted.bam \\\n",
      "                -SORT_ORDER coordinate \\\n",
      "                --TMP_DIR out_dir/tmp\n",
      "bwa mem -M \\\n",
      "                    -t 20 \\\n",
      "                    -R @RG\\tID:readgroup2.4\\tSM:sample2\\tLB:lib1\\tPL:ILLUMINA \\\n",
      "                    path_ref_fasta \\\n",
      "                    path2.4.1 \\\n",
      "                    path2.4.2 \\\n",
      "                    | samtools view -Shb -o out_dir/aln/sample2_readgroup2.4_mapped.bam\n",
      "gatk SortSam \\\n",
      "                -I out_dir/aln/sample2_readgroup2.4_mapped.bam \\\n",
      "                -O out_dir/aln/sample2_readgroup2.4_sorted.bam \\\n",
      "                -SORT_ORDER coordinate \\\n",
      "                --TMP_DIR out_dir/tmp\n",
      "gatk MarkDuplicates \\\n",
      "                -O out_dir/qualification/sample2_marked.bam \\\n",
      "                -M out_dir/qualification/sample2_metrics.txt \\\n",
      "                --TMP_DIR out_dir/tmp  -I out_dir/aln/sample2_readgroup2.1_sorted.bam  -I out_dir/aln/sample2_readgroup2.2_sorted.bam  -I out_dir/aln/sample2_readgroup2.3_sorted.bam  -I out_dir/aln/sample2_readgroup2.4_sorted.bam\n",
      "gatk BaseRecalibrator \\\n",
      "            -I out_dir/qualification/sample2_marked.bam \\\n",
      "            -R path_ref_fasta \\\n",
      "            --known-sites path_dbsnp \\\n",
      "            -O out_dir/qualification/sample2_recal.table\n",
      "gatk ApplyBQSR \\\n",
      "                -R path_ref_fasta \\\n",
      "                -I out_dir/qualification/sample2_marked.bam \\\n",
      "                --bqsr-recal-file out_dir/qualification/sample2_recal.table \\\n",
      "                -O out_dir/qualification/sample2_arr.bam\n",
      "gatk HaplotypeCaller \\\n",
      "                -R path_ref_fasta \\\n",
      "                -I out_dir/qualification/sample2_arr.bam \\\n",
      "                -O out_dir/vcf/sample2_g.vcf.gz \\\n",
      "                -ERC GVCF\n"
     ]
    }
   ],
   "source": [
    "list_sample = []\n",
    "for sample_name in collection['samples']:\n",
    "    list_sample.append(sample_name)\n",
    "    sample=collection['samples'][sample_name]\n",
    "    list_group = []\n",
    "    for group_name in sample:\n",
    "        group = sample[group_name]\n",
    "        list_group.append(group_name)\n",
    "\n",
    "        #map reads to reference\n",
    "        group['mappedbam']= os.path.join(out_aln,sample_name+'_'+group_name+'_mapped.bam')\n",
    "        cmd = rf\"\"\"bwa mem -M \\\n",
    "                    -t 20 \\\n",
    "                    -R @RG\\tID:{group_name}\\tSM:{sample_name}\\tLB:lib1\\tPL:ILLUMINA \\\n",
    "                    {ref_fasta} \\\n",
    "                    {group['read1']} \\\n",
    "                    {group['read2']} \\\n",
    "                    | samtools view -Shb -o {group['mappedbam']}\"\"\"\n",
    "        print(cmd)\n",
    "        #os.system(cmd)\n",
    "        \n",
    "        #sortbam\n",
    "        group['sortedbam']= os.path.join(out_aln,sample_name+'_'+group_name+'_sorted.bam')\n",
    "        cmd = rf\"\"\"gatk SortSam \\\n",
    "                -I {group['mappedbam']} \\\n",
    "                -O {group['sortedbam']} \\\n",
    "                -SORT_ORDER coordinate \\\n",
    "                --TMP_DIR {tmp}\"\"\"\n",
    "        print(cmd)\n",
    "        #os.system(cmd)\n",
    "    \n",
    "    #mark duplicate\n",
    "    sample['markedbam']= os.path.join(out_qual,sample_name+'_marked.bam')\n",
    "    sample['metrics']= os.path.join(out_qual,sample_name+'_metrics.txt')\n",
    "\n",
    "    cmd = rf\"\"\"gatk MarkDuplicates \\\n",
    "                -O {sample['markedbam']} \\\n",
    "                -M {sample['metrics']} \\\n",
    "                --TMP_DIR {tmp}\"\"\"\n",
    "    for gn in list_group:\n",
    "        cmd += rf\"  -I {sample[gn]['sortedbam']}\"\n",
    "    print(cmd)\n",
    "    #os.system(cmd)\n",
    "    \n",
    "    #base recalibration\n",
    "    sample['recaltable']= os.path.join(out_qual,sample_name+'_recal.table')\n",
    "    cmd = rf\"\"\"gatk BaseRecalibrator \\\n",
    "            -I {sample['markedbam']} \\\n",
    "            -R {ref_fasta} \\\n",
    "            --known-sites {dbsnp} \\\n",
    "            -O {sample['recaltable']}\"\"\"\n",
    "    print(cmd)\n",
    "    #os.system(cmd)\n",
    "    sample['arrbam']= os.path.join(out_qual,sample_name+'_arr.bam')\n",
    "    cmd = rf\"\"\"gatk ApplyBQSR \\\n",
    "                -R {ref_fasta} \\\n",
    "                -I {sample['markedbam']} \\\n",
    "                --bqsr-recal-file {sample['recaltable']} \\\n",
    "                -O {sample['arrbam']}\"\"\"\n",
    "    print(cmd)\n",
    "    #os.system(cmd)\n",
    "\n",
    "    #variant calling\n",
    "    sample['gvcf']= os.path.join(out_vcf,sample_name+'_g.vcf.gz')\n",
    "    cmd = rf\"\"\"gatk HaplotypeCaller \\\n",
    "                -R {ref_fasta} \\\n",
    "                -I {sample['arrbam']} \\\n",
    "                -O {sample['gvcf']} \\\n",
    "                -ERC GVCF\"\"\"\n",
    "    print(cmd)\n",
    "    #os.system(cmd)"
   ]
  },
  {
   "cell_type": "markdown",
   "id": "rising-drilling",
   "metadata": {},
   "source": [
    "## Consolidating GVCFs"
   ]
  },
  {
   "cell_type": "code",
   "execution_count": 6,
   "id": "medium-collins",
   "metadata": {
    "scrolled": true
   },
   "outputs": [
    {
     "name": "stdout",
     "output_type": "stream",
     "text": [
      "gatk GenomicsDBImport \\\n",
      "        --genomicsdb-workspace-path out_dir/joint/genomicsdb  -V out_dir/vcf/sample1_g.vcf.gz  -V out_dir/vcf/sample2_g.vcf.gz\n"
     ]
    }
   ],
   "source": [
    "out_joint = os.path.join(out_dir,'joint')\n",
    "#os.mkdir(out_joint)\n",
    "out_gdb = os.path.join(out_joint,'genomicsdb')\n",
    "#os.mkdir(out_gdb)\n",
    "collection['genomicsdb'] = out_gdb\n",
    "cmd = rf\"\"\"gatk GenomicsDBImport \\\n",
    "        --genomicsdb-workspace-path {collection['genomicsdb']}\"\"\"\n",
    "for i in list_sample:\n",
    "    cmd += rf\"  -V {collection['samples'][i]['gvcf']}\"\n",
    "print(cmd)\n",
    "#os.system(cmd)"
   ]
  },
  {
   "cell_type": "markdown",
   "id": "unlikely-recall",
   "metadata": {},
   "source": [
    "## Joint genotyping"
   ]
  },
  {
   "cell_type": "code",
   "execution_count": 7,
   "id": "hourly-agreement",
   "metadata": {},
   "outputs": [
    {
     "name": "stdout",
     "output_type": "stream",
     "text": [
      "gatk GenotypeGVCFs\n",
      "        -R path_ref_fasta         -V out_dir/joint/genomicsdb         -O out_dir/joint/joint.vcf.gz\n"
     ]
    }
   ],
   "source": [
    "collection['jointvcf'] = os.path.join(out_joint,'joint.vcf.gz')\n",
    "cmd =f\"\"\"gatk GenotypeGVCFs\n",
    "        -R {ref_fasta} \\\n",
    "        -V {collection['genomicsdb']} \\\n",
    "        -O {collection['jointvcf']}\"\"\"\n",
    "print(cmd)\n",
    "#os.system(cmd) "
   ]
  }
 ],
 "metadata": {
  "kernelspec": {
   "display_name": "Python 3",
   "language": "python",
   "name": "python3"
  },
  "language_info": {
   "codemirror_mode": {
    "name": "ipython",
    "version": 3
   },
   "file_extension": ".py",
   "mimetype": "text/x-python",
   "name": "python",
   "nbconvert_exporter": "python",
   "pygments_lexer": "ipython3",
   "version": "3.7.7"
  }
 },
 "nbformat": 4,
 "nbformat_minor": 5
}
